{
 "cells": [
  {
   "cell_type": "markdown",
   "metadata": {},
   "source": [
    "[&lArr; Back to Index](index.html)"
   ]
  },
  {
   "cell_type": "markdown",
   "metadata": {},
   "source": [
    "#### Sources for Jazz Project\n",
    "\n",
    "* Librosa Documentation - http://librosa.github.io/librosa/\n",
    "\n",
    "* Music Information Retrival - http://musicinformationretrieval.com/\n",
    "\n",
    "    * For audio clip processing with Librosa\n",
    "    * For idea of hosting website through GitHub pages\n",
    "    * For file structure to generate webpages\n",
    "    * For the awesome \"Back to Index\" idea and using a left arrow\n",
    "    * This is the github link for the site https://github.com/stevetjoa/stanford-mir\n",
    "    \n",
    "* Pythonic Preambulations - http://jakevdp.github.io/\n",
    "\n",
    "    * A fantastic webstie that uses published ipython notebooks for each post. \n",
    "    * For github organization of files - https://github.com/jakevdp/jakevdp.github.io \n",
    "    * For loading videos onto website - http://jakevdp.github.io/blog/2017/03/08/triple-pendulum-chaos/\n",
    "    \n",
    "* Stack Overflow Extremely Important answers:\n",
    "\n",
    "   * To combine the plot images with the proper intervals - https://superuser.com/questions/617392/ffmpeg-image-sequence-with-various-durations\n",
    "   \n",
    "   * To merge video and audio - https://superuser.com/questions/277642/how-to-merge-audio-and-video-file-in-ffmpeg\n",
    "   "
   ]
  },
  {
   "cell_type": "markdown",
   "metadata": {},
   "source": [
    "#### README from GitHub\n",
    "\n",
    "The goal of this project is to create more interactive listening guides for some jazz pieces from a jazz history class in Columbia University.\n",
    "\n",
    "Initially, I tried using a package called aubio and tapestrea to track the beat. These initial attempts were unsuccessful.\n",
    "\n",
    "Then, I found a python package called Librosa and a website called Music Information Retrival. These two resources furthered the quest to track beats and plot the results. You can check the References page/file for more details.\n",
    "\n",
    "To plot the results, I initially tried using Matplotlib but that resource does not allow for variable interval duration between images. So I save the images locally to a tmp file and then use FFMPEG to combine the plot images with variable intervals. Once again, more details follow in the References page/file."
   ]
  },
  {
   "cell_type": "markdown",
   "metadata": {},
   "source": [
    "[&lArr; Back to Index](index.html)"
   ]
  }
 ],
 "metadata": {
  "kernelspec": {
   "display_name": "Python (jazz)",
   "language": "python",
   "name": "jazz"
  },
  "language_info": {
   "codemirror_mode": {
    "name": "ipython",
    "version": 3
   },
   "file_extension": ".py",
   "mimetype": "text/x-python",
   "name": "python",
   "nbconvert_exporter": "python",
   "pygments_lexer": "ipython3",
   "version": "3.6.3"
  }
 },
 "nbformat": 4,
 "nbformat_minor": 2
}
