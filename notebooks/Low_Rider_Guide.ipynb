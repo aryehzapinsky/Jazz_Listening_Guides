{
 "cells": [
  {
   "cell_type": "markdown",
   "metadata": {},
   "source": [
    "[&lArr; Back to Index](index.html)"
   ]
  },
  {
   "cell_type": "code",
   "execution_count": 1,
   "metadata": {},
   "outputs": [],
   "source": [
    "from IPython.display import HTML\n",
    "whole_song = HTML('<audio controls src=\"http://aryehzapinsky.github.io/Jazz_Listening_Guides/music/Low_Rider.m4a\" />')\n",
    "whole_song_tracked = HTML('<video controls src=\"http://aryehzapinsky.github.io/Jazz_Listening_Guides/notebooks/results/LR_whole.mp4\" />')\n",
    "\n",
    "pieces = 10\n",
    "snippet = [HTML('<audio controls src=\"http://aryehzapinsky.github.io/Jazz_Listening_Guides/notebooks/results/LR_{}.wav\" />'.format(i)) for i in range(pieces)]\n",
    "beat_snip = [HTML('<video controls src=\"http://aryehzapinsky.github.io/Jazz_Listening_Guides/notebooks/results/LR_{}.mp4\" />'.format(i)) for i in range(pieces)]"
   ]
  },
  {
   "cell_type": "markdown",
   "metadata": {},
   "source": [
    "# \"Low Rider\" \n",
    "# by Chris Washburne and the Syotos Band"
   ]
  },
  {
   "cell_type": "markdown",
   "metadata": {},
   "source": [
    "### Listening guide created by Jonathan Deluty and Aryeh Zapinsky"
   ]
  },
  {
   "cell_type": "markdown",
   "metadata": {},
   "source": [
    "#### Performers:\n",
    "\n",
    "* Chris Washburne - trombone \n",
    "* John Walsh - trumpet\n",
    "* Ole Mathisen - tenor saxophone\n",
    "* Yeissonn Villamar - keyboard\n",
    "* Leo Traversa - bass\n",
    "* Vince Cherico - drums/percussion"
   ]
  },
  {
   "cell_type": "code",
   "execution_count": 2,
   "metadata": {},
   "outputs": [
    {
     "data": {
      "text/html": [
       "<audio controls src=\"http://aryehzapinsky.github.io/Jazz_Listening_Guides/music/Low_Rider.m4a\" />"
      ],
      "text/plain": [
       "<IPython.core.display.HTML object>"
      ]
     },
     "execution_count": 2,
     "metadata": {},
     "output_type": "execute_result"
    }
   ],
   "source": [
    "whole_song"
   ]
  },
  {
   "cell_type": "markdown",
   "metadata": {},
   "source": [
    "### Intro"
   ]
  },
  {
   "cell_type": "markdown",
   "metadata": {},
   "source": [
    "(0:00-0:06)"
   ]
  },
  {
   "cell_type": "markdown",
   "metadata": {},
   "source": [
    "The piece begins with a cowbell imitating the percussive opening from the original song by War. It is a measure of straight quarter and eighth notes, followed by a slightly syncopated combination of the same rhythmic units (two quarter notes, four eighth notes)."
   ]
  },
  {
   "cell_type": "code",
   "execution_count": 3,
   "metadata": {},
   "outputs": [
    {
     "data": {
      "text/html": [
       "<audio controls src=\"http://aryehzapinsky.github.io/Jazz_Listening_Guides/notebooks/results/LR_0.wav\" />"
      ],
      "text/plain": [
       "<IPython.core.display.HTML object>"
      ]
     },
     "execution_count": 3,
     "metadata": {},
     "output_type": "execute_result"
    }
   ],
   "source": [
    "snippet[0]"
   ]
  },
  {
   "cell_type": "code",
   "execution_count": 4,
   "metadata": {},
   "outputs": [
    {
     "data": {
      "text/html": [
       "<video controls src=\"http://aryehzapinsky.github.io/Jazz_Listening_Guides/notebooks/results/LR_0.mp4\" />"
      ],
      "text/plain": [
       "<IPython.core.display.HTML object>"
      ]
     },
     "execution_count": 4,
     "metadata": {},
     "output_type": "execute_result"
    }
   ],
   "source": [
    "beat_snip[0]"
   ]
  },
  {
   "cell_type": "markdown",
   "metadata": {},
   "source": [
    "(0:06-0:19)"
   ]
  },
  {
   "cell_type": "markdown",
   "metadata": {},
   "source": [
    "Low Rider’s iconic pentatonic bassline enters, both on electric bass and on both clefs in the piano part. It establishes the key as G, but with a mixolydian feel from the very first note: F-natural. The figure repeats three times before introducing the still unheard horn instruments in the song: trumpet, tenor saxophone, and trombone. The introduction section ends with a sequence of arpeggiated ascending fourths followed by a chromatic descent and re-ascent ending on a G7 chord, re-establishing the key. "
   ]
  },
  {
   "cell_type": "code",
   "execution_count": 5,
   "metadata": {},
   "outputs": [
    {
     "data": {
      "text/html": [
       "<audio controls src=\"http://aryehzapinsky.github.io/Jazz_Listening_Guides/notebooks/results/LR_1.wav\" />"
      ],
      "text/plain": [
       "<IPython.core.display.HTML object>"
      ]
     },
     "execution_count": 5,
     "metadata": {},
     "output_type": "execute_result"
    }
   ],
   "source": [
    "snippet[1]"
   ]
  },
  {
   "cell_type": "code",
   "execution_count": 6,
   "metadata": {},
   "outputs": [
    {
     "data": {
      "text/html": [
       "<video controls src=\"http://aryehzapinsky.github.io/Jazz_Listening_Guides/notebooks/results/LR_1.mp4\" />"
      ],
      "text/plain": [
       "<IPython.core.display.HTML object>"
      ]
     },
     "execution_count": 6,
     "metadata": {},
     "output_type": "execute_result"
    }
   ],
   "source": [
    "beat_snip[1]"
   ]
  },
  {
   "cell_type": "markdown",
   "metadata": {},
   "source": [
    "### Verse"
   ]
  },
  {
   "cell_type": "markdown",
   "metadata": {},
   "source": [
    "(0:20-0:44)"
   ]
  },
  {
   "cell_type": "markdown",
   "metadata": {},
   "source": [
    "Washburne enters on the trombone to play the melody over the same bassline and a G7 vamp on piano. This is the most stripped-down verse, as the arrangement layers the horn parts in the following repetitive phrases. Washburne plays the simple 8-note melody with an improvised fill while the piano plays a rolling accompaniment underneath. In between the melody sections, he adds a short improvised fill, making the trombone distinct from the vocal part it imitates.The next phrase, the most famous motif of this tune, is the cha cha eighth note melody, played twice. For this section, Washburne is joined by Walsh and Mathisen on the note B, playing a three-part unison the first time. The second time, the horns diverge, leaving only the trumpet on the note B, while the saxophone and trombone harmonize on the G7 chord, adding an 11 (C) for color. The phrase ends on a V chord, but with a diminished 5th, giving the end of the phrase a jazzy half cadence. "
   ]
  },
  {
   "cell_type": "code",
   "execution_count": 7,
   "metadata": {},
   "outputs": [
    {
     "data": {
      "text/html": [
       "<audio controls src=\"http://aryehzapinsky.github.io/Jazz_Listening_Guides/notebooks/results/LR_2.wav\" />"
      ],
      "text/plain": [
       "<IPython.core.display.HTML object>"
      ]
     },
     "execution_count": 7,
     "metadata": {},
     "output_type": "execute_result"
    }
   ],
   "source": [
    "snippet[2]"
   ]
  },
  {
   "cell_type": "code",
   "execution_count": 8,
   "metadata": {},
   "outputs": [
    {
     "data": {
      "text/html": [
       "<video controls src=\"http://aryehzapinsky.github.io/Jazz_Listening_Guides/notebooks/results/LR_2.mp4\" />"
      ],
      "text/plain": [
       "<IPython.core.display.HTML object>"
      ]
     },
     "execution_count": 8,
     "metadata": {},
     "output_type": "execute_result"
    }
   ],
   "source": [
    "beat_snip[2]"
   ]
  },
  {
   "cell_type": "markdown",
   "metadata": {},
   "source": [
    "(0:45-1:06)"
   ]
  },
  {
   "cell_type": "markdown",
   "metadata": {},
   "source": [
    "The phrase repeats, but instead of Washburne improvising the fills, there are orchestrated harmonizing fills in the piano and the horns. These sections bounce between a distance of more than an octave, opening up the phrase. The final chord of the verse is the same as in the verse before. Leading up to it is a sequentially descending group of fourths, almost a mirror image of the ascending fourths from the introduction section. "
   ]
  },
  {
   "cell_type": "code",
   "execution_count": 9,
   "metadata": {},
   "outputs": [
    {
     "data": {
      "text/html": [
       "<audio controls src=\"http://aryehzapinsky.github.io/Jazz_Listening_Guides/notebooks/results/LR_3.wav\" />"
      ],
      "text/plain": [
       "<IPython.core.display.HTML object>"
      ]
     },
     "execution_count": 9,
     "metadata": {},
     "output_type": "execute_result"
    }
   ],
   "source": [
    "snippet[3]"
   ]
  },
  {
   "cell_type": "code",
   "execution_count": 10,
   "metadata": {},
   "outputs": [
    {
     "data": {
      "text/html": [
       "<video controls src=\"http://aryehzapinsky.github.io/Jazz_Listening_Guides/notebooks/results/LR_3.mp4\" />"
      ],
      "text/plain": [
       "<IPython.core.display.HTML object>"
      ]
     },
     "execution_count": 10,
     "metadata": {},
     "output_type": "execute_result"
    }
   ],
   "source": [
    "beat_snip[3]"
   ]
  },
  {
   "cell_type": "markdown",
   "metadata": {},
   "source": [
    "### Pre-chorus"
   ]
  },
  {
   "cell_type": "markdown",
   "metadata": {},
   "source": [
    "(1:06-1:18)"
   ]
  },
  {
   "cell_type": "markdown",
   "metadata": {},
   "source": [
    "In a move that compresses the style of the verse to just a few measures, the horn section plays a series of 8th notes on the note F before resting on G, followed by a harmonized series of 8th notes ending on a VI chord, a deceptive cadence, with an 11th thrown in for dissonance in the bass. This leads into the solo sections."
   ]
  },
  {
   "cell_type": "code",
   "execution_count": 11,
   "metadata": {},
   "outputs": [
    {
     "data": {
      "text/html": [
       "<audio controls src=\"http://aryehzapinsky.github.io/Jazz_Listening_Guides/notebooks/results/LR_4.wav\" />"
      ],
      "text/plain": [
       "<IPython.core.display.HTML object>"
      ]
     },
     "execution_count": 11,
     "metadata": {},
     "output_type": "execute_result"
    }
   ],
   "source": [
    "snippet[4]"
   ]
  },
  {
   "cell_type": "code",
   "execution_count": 12,
   "metadata": {},
   "outputs": [
    {
     "data": {
      "text/html": [
       "<video controls src=\"http://aryehzapinsky.github.io/Jazz_Listening_Guides/notebooks/results/LR_4.mp4\" />"
      ],
      "text/plain": [
       "<IPython.core.display.HTML object>"
      ]
     },
     "execution_count": 12,
     "metadata": {},
     "output_type": "execute_result"
    }
   ],
   "source": [
    "beat_snip[4]"
   ]
  },
  {
   "cell_type": "markdown",
   "metadata": {},
   "source": [
    "### Solos"
   ]
  },
  {
   "cell_type": "markdown",
   "metadata": {},
   "source": [
    "(1:19-2:04)"
   ]
  },
  {
   "cell_type": "markdown",
   "metadata": {},
   "source": [
    "A 32 bar solo from Washburne on the trombone. All solos are set on top of a G7 vamp with a straight 4/4 beat. 16 bars in, the horn section joins with backing chords."
   ]
  },
  {
   "cell_type": "code",
   "execution_count": 13,
   "metadata": {},
   "outputs": [
    {
     "data": {
      "text/html": [
       "<audio controls src=\"http://aryehzapinsky.github.io/Jazz_Listening_Guides/notebooks/results/LR_5.wav\" />"
      ],
      "text/plain": [
       "<IPython.core.display.HTML object>"
      ]
     },
     "execution_count": 13,
     "metadata": {},
     "output_type": "execute_result"
    }
   ],
   "source": [
    "snippet[5]"
   ]
  },
  {
   "cell_type": "code",
   "execution_count": 14,
   "metadata": {},
   "outputs": [
    {
     "data": {
      "text/html": [
       "<video controls src=\"http://aryehzapinsky.github.io/Jazz_Listening_Guides/notebooks/results/LR_5.mp4\" />"
      ],
      "text/plain": [
       "<IPython.core.display.HTML object>"
      ]
     },
     "execution_count": 14,
     "metadata": {},
     "output_type": "execute_result"
    }
   ],
   "source": [
    "beat_snip[5]"
   ]
  },
  {
   "cell_type": "markdown",
   "metadata": {},
   "source": [
    "(2:04-2:47)"
   ]
  },
  {
   "cell_type": "markdown",
   "metadata": {},
   "source": [
    "Another 32 bar solo taken by Villamar on the piano. This solo is significantly faster than the trombone solo, and the horns lay out for the entire time."
   ]
  },
  {
   "cell_type": "code",
   "execution_count": 15,
   "metadata": {},
   "outputs": [
    {
     "data": {
      "text/html": [
       "<audio controls src=\"http://aryehzapinsky.github.io/Jazz_Listening_Guides/notebooks/results/LR_6.wav\" />"
      ],
      "text/plain": [
       "<IPython.core.display.HTML object>"
      ]
     },
     "execution_count": 15,
     "metadata": {},
     "output_type": "execute_result"
    }
   ],
   "source": [
    "snippet[6]"
   ]
  },
  {
   "cell_type": "code",
   "execution_count": 16,
   "metadata": {},
   "outputs": [
    {
     "data": {
      "text/html": [
       "<video controls src=\"http://aryehzapinsky.github.io/Jazz_Listening_Guides/notebooks/results/LR_6.mp4\" />"
      ],
      "text/plain": [
       "<IPython.core.display.HTML object>"
      ]
     },
     "execution_count": 16,
     "metadata": {},
     "output_type": "execute_result"
    }
   ],
   "source": [
    "beat_snip[6]"
   ]
  },
  {
   "cell_type": "markdown",
   "metadata": {},
   "source": [
    "(2:46-3:30)"
   ]
  },
  {
   "cell_type": "markdown",
   "metadata": {},
   "source": [
    "Mathisen’s saxophone solo starts on bar 35, ‘stealing’ the solo from Villamar when he felt ready to come in with a soaring high D note. He plays a series of Charlie-Parker-like runs as the horns come in in the background. Dynamically, this solo crescendos up until the climax at the end before returning to the verse."
   ]
  },
  {
   "cell_type": "code",
   "execution_count": 17,
   "metadata": {},
   "outputs": [
    {
     "data": {
      "text/html": [
       "<audio controls src=\"http://aryehzapinsky.github.io/Jazz_Listening_Guides/notebooks/results/LR_7.wav\" />"
      ],
      "text/plain": [
       "<IPython.core.display.HTML object>"
      ]
     },
     "execution_count": 17,
     "metadata": {},
     "output_type": "execute_result"
    }
   ],
   "source": [
    "snippet[7]"
   ]
  },
  {
   "cell_type": "code",
   "execution_count": 18,
   "metadata": {},
   "outputs": [
    {
     "data": {
      "text/html": [
       "<video controls src=\"http://aryehzapinsky.github.io/Jazz_Listening_Guides/notebooks/results/LR_7.mp4\" />"
      ],
      "text/plain": [
       "<IPython.core.display.HTML object>"
      ]
     },
     "execution_count": 18,
     "metadata": {},
     "output_type": "execute_result"
    }
   ],
   "source": [
    "beat_snip[7]"
   ]
  },
  {
   "cell_type": "markdown",
   "metadata": {},
   "source": [
    "(3:31-3:35)"
   ]
  },
  {
   "cell_type": "markdown",
   "metadata": {},
   "source": [
    "A return of the ascending fourth sequence leading into the final verse."
   ]
  },
  {
   "cell_type": "code",
   "execution_count": 19,
   "metadata": {},
   "outputs": [
    {
     "data": {
      "text/html": [
       "<audio controls src=\"http://aryehzapinsky.github.io/Jazz_Listening_Guides/notebooks/results/LR_8.wav\" />"
      ],
      "text/plain": [
       "<IPython.core.display.HTML object>"
      ]
     },
     "execution_count": 19,
     "metadata": {},
     "output_type": "execute_result"
    }
   ],
   "source": [
    "snippet[8]"
   ]
  },
  {
   "cell_type": "code",
   "execution_count": 20,
   "metadata": {},
   "outputs": [
    {
     "data": {
      "text/html": [
       "<video controls src=\"http://aryehzapinsky.github.io/Jazz_Listening_Guides/notebooks/results/LR_8.mp4\" />"
      ],
      "text/plain": [
       "<IPython.core.display.HTML object>"
      ]
     },
     "execution_count": 20,
     "metadata": {},
     "output_type": "execute_result"
    }
   ],
   "source": [
    "beat_snip[8]"
   ]
  },
  {
   "cell_type": "markdown",
   "metadata": {},
   "source": [
    "(3:36-4:15)"
   ]
  },
  {
   "cell_type": "markdown",
   "metadata": {},
   "source": [
    "An identical A section to the second one, with all of the orchestrated harmonized fills in the horn section."
   ]
  },
  {
   "cell_type": "code",
   "execution_count": 21,
   "metadata": {},
   "outputs": [
    {
     "data": {
      "text/html": [
       "<audio controls src=\"http://aryehzapinsky.github.io/Jazz_Listening_Guides/notebooks/results/LR_9.wav\" />"
      ],
      "text/plain": [
       "<IPython.core.display.HTML object>"
      ]
     },
     "execution_count": 21,
     "metadata": {},
     "output_type": "execute_result"
    }
   ],
   "source": [
    "snippet[9]"
   ]
  },
  {
   "cell_type": "code",
   "execution_count": 22,
   "metadata": {},
   "outputs": [
    {
     "data": {
      "text/html": [
       "<video controls src=\"http://aryehzapinsky.github.io/Jazz_Listening_Guides/notebooks/results/LR_9.mp4\" />"
      ],
      "text/plain": [
       "<IPython.core.display.HTML object>"
      ]
     },
     "execution_count": 22,
     "metadata": {},
     "output_type": "execute_result"
    }
   ],
   "source": [
    "beat_snip[9]"
   ]
  },
  {
   "cell_type": "code",
   "execution_count": 23,
   "metadata": {},
   "outputs": [
    {
     "data": {
      "text/html": [
       "<video controls src=\"http://aryehzapinsky.github.io/Jazz_Listening_Guides/notebooks/results/LR_whole.mp4\" />"
      ],
      "text/plain": [
       "<IPython.core.display.HTML object>"
      ]
     },
     "execution_count": 23,
     "metadata": {},
     "output_type": "execute_result"
    }
   ],
   "source": [
    "whole_song_tracked"
   ]
  },
  {
   "cell_type": "markdown",
   "metadata": {},
   "source": [
    "[&lArr; Back to Index](index.html)"
   ]
  }
 ],
 "metadata": {
  "kernelspec": {
   "display_name": "Python (jazz)",
   "language": "python",
   "name": "jazz"
  },
  "language_info": {
   "codemirror_mode": {
    "name": "ipython",
    "version": 3
   },
   "file_extension": ".py",
   "mimetype": "text/x-python",
   "name": "python",
   "nbconvert_exporter": "python",
   "pygments_lexer": "ipython3",
   "version": "3.6.3"
  }
 },
 "nbformat": 4,
 "nbformat_minor": 2
}
