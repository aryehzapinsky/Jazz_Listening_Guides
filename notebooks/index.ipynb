{
 "cells": [
  {
   "cell_type": "markdown",
   "metadata": {},
   "source": [
    "# Advanced Jazz Listening Guides\n",
    "## Created by Jonathan Deluty and Aryeh Zapinsky"
   ]
  },
  {
   "cell_type": "markdown",
   "metadata": {},
   "source": [
    "1. [Maple Leaf Rag]\n",
    "1. [Low Ridin'](Low_Rider_Guide.html)\n",
    "1. [Tool Used to created graphicsal beat plotting](Plotting.html)\n",
    "1. [Acknowledgement, Sources, Credit Where it is Due](References - Credit Where it is Due.html)"
   ]
  },
  {
   "cell_type": "markdown",
   "metadata": {},
   "source": [
    "These are static webpages. Actual notebooks can be found on [GitHub](https://github.com/aryehzapinsky/Jazz_Listening_Guides)"
   ]
  }
 ],
 "metadata": {
  "kernelspec": {
   "display_name": "Python (jazz)",
   "language": "python",
   "name": "jazz"
  },
  "language_info": {
   "codemirror_mode": {
    "name": "ipython",
    "version": 3
   },
   "file_extension": ".py",
   "mimetype": "text/x-python",
   "name": "python",
   "nbconvert_exporter": "python",
   "pygments_lexer": "ipython3",
   "version": "3.6.3"
  }
 },
 "nbformat": 4,
 "nbformat_minor": 2
}
